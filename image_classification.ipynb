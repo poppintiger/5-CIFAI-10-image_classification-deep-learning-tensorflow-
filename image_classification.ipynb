{
 "cells": [
  {
   "cell_type": "markdown",
   "metadata": {
    "collapsed": true
   },
   "source": [
    "# Image Classification\n",
    "In this project, you'll classify images from the [CIFAR-10 dataset](https://www.cs.toronto.edu/~kriz/cifar.html).  The dataset consists of airplanes, dogs, cats, and other objects. You'll preprocess the images, then train a convolutional neural network on all the samples. The images need to be normalized and the labels need to be one-hot encoded.  You'll get to apply what you learned and build a convolutional, max pooling, dropout, and fully connected layers.  At the end, you'll get to see your neural network's predictions on the sample images.\n",
    "## Get the Data\n",
    "Run the following cell to download the [CIFAR-10 dataset for python](https://www.cs.toronto.edu/~kriz/cifar-10-python.tar.gz)."
   ]
  },
  {
   "cell_type": "code",
   "execution_count": 3,
   "metadata": {},
   "outputs": [
    {
     "name": "stdout",
     "output_type": "stream",
     "text": [
      "All files found!\n"
     ]
    }
   ],
   "source": [
    "\"\"\"\n",
    "DON'T MODIFY ANYTHING IN THIS CELL THAT IS BELOW THIS LINE\n",
    "\"\"\"\n",
    "from urllib.request import urlretrieve\n",
    "from os.path import isfile, isdir\n",
    "from tqdm import tqdm\n",
    "import problem_unittests as tests\n",
    "import tarfile\n",
    "\n",
    "cifar10_dataset_folder_path = 'cifar-10-batches-py'\n",
    "\n",
    "class DLProgress(tqdm):\n",
    "    last_block = 0\n",
    "\n",
    "    def hook(self, block_num=1, block_size=1, total_size=None):\n",
    "        self.total = total_size\n",
    "        self.update((block_num - self.last_block) * block_size)\n",
    "        self.last_block = block_num\n",
    "\n",
    "if not isfile('cifar-10-python.tar.gz'):\n",
    "    with DLProgress(unit='B', unit_scale=True, miniters=1, desc='CIFAR-10 Dataset') as pbar:\n",
    "        urlretrieve(\n",
    "            'https://www.cs.toronto.edu/~kriz/cifar-10-python.tar.gz',\n",
    "            'cifar-10-python.tar.gz',\n",
    "            pbar.hook)\n",
    "\n",
    "if not isdir(cifar10_dataset_folder_path):\n",
    "    with tarfile.open('cifar-10-python.tar.gz') as tar:\n",
    "        tar.extractall()\n",
    "        tar.close()\n",
    "\n",
    "\n",
    "tests.test_folder_path(cifar10_dataset_folder_path)"
   ]
  },
  {
   "cell_type": "markdown",
   "metadata": {},
   "source": [
    "## Explore the Data\n",
    "The dataset is broken into batches to prevent your machine from running out of memory.  The CIFAR-10 dataset consists of 5 batches, named `data_batch_1`, `data_batch_2`, etc.. Each batch contains the labels and images that are one of the following:\n",
    "* airplane\n",
    "* automobile\n",
    "* bird\n",
    "* cat\n",
    "* deer\n",
    "* dog\n",
    "* frog\n",
    "* horse\n",
    "* ship\n",
    "* truck\n",
    "\n",
    "Understanding a dataset is part of making predictions on the data.  Play around with the code cell below by changing the `batch_id` and `sample_id`. The `batch_id` is the id for a batch (1-5). The `sample_id` is the id for a image and label pair in the batch.\n",
    "\n"
   ]
  },
  {
   "cell_type": "code",
   "execution_count": 4,
   "metadata": {},
   "outputs": [
    {
     "name": "stdout",
     "output_type": "stream",
     "text": [
      "\n",
      "Stats of batch 3:\n",
      "Samples: 10000\n",
      "Label Counts: {0: 994, 1: 1042, 2: 965, 3: 997, 4: 990, 5: 1029, 6: 978, 7: 1015, 8: 961, 9: 1029}\n",
      "First 20 Labels: [8, 5, 0, 6, 9, 2, 8, 3, 6, 2, 7, 4, 6, 9, 0, 0, 7, 3, 7, 2]\n",
      "\n",
      "Example of Image 0:\n",
      "Image - Min Value: 0 Max Value: 254\n",
      "Image - Shape: (32, 32, 3)\n",
      "Label - Label Id: 8 Name: ship\n"
     ]
    },
    {
     "data": {
      "image/png": "[encoded data removed]",
      "text/plain": [
       "<matplotlib.figure.Figure at 0xc219ba8>"
      ]
     },
     "metadata": {
      "image/png": {
       "height": 250,
       "width": 253
      }
     },
     "output_type": "display_data"
    }
   ],
   "source": [
    "%matplotlib inline\n",
    "%config InlineBackend.figure_format = 'retina'\n",
    "\n",
    "import helper\n",
    "import numpy as np\n",
    "\n",
    "# Explore the dataset\n",
    "batch_id = 3\n",
    "sample_id = 0\n",
    "helper.display_stats(cifar10_dataset_folder_path, batch_id, sample_id)"
   ]
  },
  {
   "cell_type": "markdown",
   "metadata": {},
   "source": [
    "## Implement Preprocess Functions\n",
    "### Normalize\n",
    "In the cell below, implement the `normalize` function to take in image data, `x`, and return it as a normalized Numpy array. The values should be in the range of 0 to 1, inclusive.  The return object should be the same shape as `x`."
   ]
  },
  {
   "cell_type": "code",
   "execution_count": 5,
   "metadata": {},
   "outputs": [
    {
     "name": "stdout",
     "output_type": "stream",
     "text": [
      "Tests Passed\n"
     ]
    }
   ],
   "source": [
    "def normalize(x):\n",
    "\n",
    "    \"\"\"\n",
    "    Normalize a list of sample image data in the range of 0 to 1\n",
    "    : x: List of image data.  The image shape is (32, 32, 3)\n",
    "    : return: Numpy array of normalize data\n",
    "    \"\"\"\n",
    "    # TODO: Implement Function.nomarlize 不在乎正负号，因为可以还原。本身就是个array(None，32, 32, 3)\n",
    "    #x:[batch,32,32,3]     \n",
    "    return ((x-128.0)/128.0+1.0)/2.0\n",
    "    print( x.shape)\n",
    "    #return x/255\n",
    "\n",
    "\n",
    "tests.test_normalize(normalize)"
   ]
  },
  {
   "cell_type": "markdown",
   "metadata": {},
   "source": [
    "### One-hot encode\n"
   ]
  },
  {
   "cell_type": "code",
   "execution_count": 6,
   "metadata": {},
   "outputs": [
    {
     "name": "stdout",
     "output_type": "stream",
     "text": [
      "Tests Passed\n"
     ]
    }
   ],
   "source": [
    "LabelMap=[]\n",
    "def one_hot_encode(x):\n",
    "    \"\"\"\n",
    "    One hot encode a list of sample labels. Return a one-hot encoded vector for each label.\n",
    "    : x: List of sample Labels\n",
    "    : return: Numpy array of one-hot encoded labels\n",
    "     \n",
    "    \"\"\"\n",
    "    # TODO: Implement Function \n",
    "    \n",
    "    if len(LabelMap)==0:\n",
    "        for i in x:\n",
    "            if i not in LabelMap:\n",
    "                LabelMap.append(i)\n",
    "            LabelMap.sort()\n",
    "        \n",
    "              \n",
    "    LabelList=[]\n",
    "    #also could use np.eye(10)[x]\n",
    "    for i in x:\n",
    "        ListTemp=[0]*len(LabelMap)\n",
    "        ListTemp[LabelMap.index(i)]=1\n",
    "        LabelList.append(ListTemp)    \n",
    "        \n",
    "    return np.array(LabelList)\n",
    "\n",
    "\n",
    "\n",
    "tests.test_one_hot_encode(one_hot_encode)"
   ]
  },
  {
   "cell_type": "markdown",
   "metadata": {},
   "source": [
    "## Preprocess all the data and save it\n",
    "Running the code cell below will preprocess all the CIFAR-10 data and save it to file. The code below also uses 10% of the training data for validation."
   ]
  },
  {
   "cell_type": "code",
   "execution_count": 7,
   "metadata": {
    "collapsed": true
   },
   "outputs": [],
   "source": [
    "\n",
    "# Preprocess Training, Validation, and Testing Data\n",
    "helper.preprocess_and_save_data(cifar10_dataset_folder_path, normalize, one_hot_encode)"
   ]
  },
  {
   "cell_type": "code",
   "execution_count": 8,
   "metadata": {
    "collapsed": true
   },
   "outputs": [],
   "source": [
    "\n",
    "import pickle\n",
    "import problem_unittests as tests\n",
    "import helper\n",
    "\n",
    "# Load the Preprocessed Validation data\n",
    "valid_features, valid_labels = pickle.load(open('preprocess_validation.p', mode='rb'))"
   ]
  },
  {
   "cell_type": "markdown",
   "metadata": {},
   "source": [
    "## Build the network\n",
    " "
   ]
  },
  {
   "cell_type": "code",
   "execution_count": 9,
   "metadata": {},
   "outputs": [
    {
     "name": "stdout",
     "output_type": "stream",
     "text": [
      "Image Input Tests Passed.\n",
      "Label Input Tests Passed.\n",
      "Keep Prob Tests Passed.\n"
     ]
    }
   ],
   "source": [
    "import tensorflow as tf\n",
    "\n",
    "def neural_net_image_input(image_shape):\n",
    "    \"\"\"\n",
    "    Return a Tensor for a batch of image input\n",
    "    : image_shape: Shape of the images\n",
    "    : return: Tensor for image input.\n",
    "    \"\"\"\n",
    "    # TODO: Implement Function\n",
    " \n",
    "    return tf.placeholder(tf.float32,shape=(None,image_shape[0],image_shape[1],image_shape[2]),name='x')\n",
    "\n",
    "\n",
    "def neural_net_label_input(n_classes):\n",
    "    \"\"\"\n",
    "    Return a Tensor for a batch of label input\n",
    "    : n_classes: Number of classes\n",
    "    : return: Tensor for label input.\n",
    "    \"\"\"\n",
    "    # TODO: Implement Function\n",
    "    return tf.placeholder(tf.float32,shape=(None,n_classes),name='y')\n",
    "\n",
    "\n",
    "def neural_net_keep_prob_input():\n",
    "    \"\"\"\n",
    "    Return a Tensor for keep probability\n",
    "    : return: Tensor for keep probability.\n",
    "    \"\"\"\n",
    "    # TODO: Implement Function\n",
    "    return tf.placeholder(tf.float32,name='keep_prob')\n",
    "\n",
    "\n",
    "\n",
    "tf.reset_default_graph()\n",
    "tests.test_nn_image_inputs(neural_net_image_input)\n",
    "tests.test_nn_label_inputs(neural_net_label_input)\n",
    "tests.test_nn_keep_prob_inputs(neural_net_keep_prob_input)"
   ]
  },
  {
   "cell_type": "markdown",
   "metadata": {},
   "source": [
    "### Convolution and Max Pooling Layer\n"
   ]
  },
  {
   "cell_type": "code",
   "execution_count": 11,
   "metadata": {},
   "outputs": [
    {
     "name": "stdout",
     "output_type": "stream",
     "text": [
      "Tests Passed\n"
     ]
    }
   ],
   "source": [
    "def conv2d_maxpool(x_tensor, conv_num_outputs, conv_ksize, conv_strides, pool_ksize, pool_strides):\n",
    "    \"\"\"\n",
    "    Apply convolution then max pooling to x_tensor\n",
    "    :param x_tensor: TensorFlow Tensor 4维\n",
    "    :param conv_num_outputs: Number of outputs for the convolutional layer\n",
    "    :param conv_ksize: kernal size 2-D Tuple for the convolutional layer\n",
    "    :param conv_strides: Stride 2-D Tuple for convolution\n",
    "    :param pool_ksize: kernal size 2-D Tuple for pool\n",
    "    :param pool_strides: Stride 2-D Tuple for pool\n",
    "    : return: A tensor that represents convolution and max pooling of x_tensor\n",
    "    \"\"\"\n",
    "    # TODO: Implement Function\n",
    "    #Max-Pooling -> ReLU ；tf.truncated_normal；tf.zeros\n",
    "   \n",
    "    wc=tf.Variable(tf.truncated_normal([conv_ksize[0],conv_ksize[1],x_tensor.get_shape().as_list()[3],conv_num_outputs],stddev=0.05))\n",
    "   \n",
    "    bc=tf.Variable(tf.zeros([conv_num_outputs]))\n",
    "    conv=tf.nn.conv2d(x_tensor,wc,strides=[1,conv_strides[0],conv_strides[1],1],padding='SAME')\n",
    "    conv=tf.nn.bias_add(conv,bc)\n",
    "    pool=tf.nn.max_pool(conv,ksize=[1,pool_ksize[0],pool_ksize[1],1],strides=[1,pool_strides[0],pool_strides[1],1],padding='SAME')\n",
    "    pool=tf.nn.relu(pool)\n",
    "    return pool \n",
    "   \n",
    " \n",
    "    print(x_tensor.get_shape())\n",
    "\n",
    "tests.test_con_pool(conv2d_maxpool)"
   ]
  },
  {
   "cell_type": "markdown",
   "metadata": {},
   "source": [
    "### Flatten Layer\n"
   ]
  },
  {
   "cell_type": "code",
   "execution_count": 12,
   "metadata": {},
   "outputs": [
    {
     "name": "stdout",
     "output_type": "stream",
     "text": [
      "Tests Passed\n"
     ]
    }
   ],
   "source": [
    "def flatten(x_tensor):\n",
    "    \"\"\"\n",
    "    Flatten x_tensor to (Batch Size, Flattened Image Size)\n",
    "    : x_tensor: A tensor of size (Batch Size, ...), where ... are the image dimensions.\n",
    "    batchsize是none！！！！\n",
    "    : return: A tensor of size (Batch Size, Flattened Image Size).\n",
    "    \"\"\"\n",
    "    # TODO: Implement Function\n",
    "  \n",
    "    return tf.reshape(x_tensor,[-1,(x_tensor.get_shape().as_list()[1])*(x_tensor.get_shape().as_list()[2])*(x_tensor.get_shape().as_list()[3])])\n",
    "\n",
    "\n",
    "\n",
    "tests.test_flatten(flatten)"
   ]
  },
  {
   "cell_type": "markdown",
   "metadata": {},
   "source": [
    "### Fully-Connected Layer\n"
   ]
  },
  {
   "cell_type": "code",
   "execution_count": 13,
   "metadata": {},
   "outputs": [
    {
     "name": "stdout",
     "output_type": "stream",
     "text": [
      "Tests Passed\n"
     ]
    }
   ],
   "source": [
    "def fully_conn(x_tensor, num_outputs):\n",
    "    \"\"\"\n",
    "    Apply a fully connected layer to x_tensor using weight and bias\n",
    "    : x_tensor: A 2-D tensor where the first dimension is batch size.\n",
    "    : num_outputs: The number of output that the new tensor should be.\n",
    "    : return: A 2-D tensor where the second dimension is num_outputs.\n",
    "    \"\"\"\n",
    "    # TODO: Implement Function\n",
    "    wf=tf.Variable(tf.truncated_normal([x_tensor.get_shape().as_list()[1],num_outputs],stddev=0.05))\n",
    "    wb=tf.Variable(tf.zeros([num_outputs]))\n",
    "    fc=tf.add(tf.matmul(x_tensor,wf),wb)\n",
    "    fc=tf.nn.relu(fc)\n",
    "    return fc\n",
    "\n",
    "\n",
    "tests.test_fully_conn(fully_conn)"
   ]
  },
  {
   "cell_type": "markdown",
   "metadata": {},
   "source": [
    "### Output Layer\n"
   ]
  },
  {
   "cell_type": "code",
   "execution_count": 15,
   "metadata": {},
   "outputs": [
    {
     "name": "stdout",
     "output_type": "stream",
     "text": [
      "Tests Passed\n"
     ]
    }
   ],
   "source": [
    "def output(x_tensor, num_outputs):\n",
    "    \"\"\"\n",
    "    Apply a output layer to x_tensor using weight and bias\n",
    "    : x_tensor: A 2-D tensor where the first dimension is batch size.\n",
    "    : num_outputs: The number of output that the new tensor should be.\n",
    "    : return: A 2-D tensor where the second dimension is num_outputs.\n",
    "    \"\"\"\n",
    "  \n",
    "    ow=tf.Variable(tf.truncated_normal([x_tensor.get_shape().as_list()[1],num_outputs],stddev=0.05))\n",
    "    ob=tf.Variable(tf.zeros([num_outputs]))\n",
    "    logit=tf.add(tf.matmul(x_tensor,ow),ob)\n",
    "    return logit\n",
    "   \n",
    "\n",
    "\n",
    "\n",
    "tests.test_output(output)"
   ]
  },
  {
   "cell_type": "markdown",
   "metadata": {},
   "source": [
    "### Create Convolutional Model\n"
   ]
  },
  {
   "cell_type": "code",
   "execution_count": 16,
   "metadata": {},
   "outputs": [
    {
     "name": "stdout",
     "output_type": "stream",
     "text": [
      "Neural Network Built!\n"
     ]
    }
   ],
   "source": [
    "def conv_net(x, keep_prob):\n",
    "    \n",
    "    \"\"\"\n",
    "    Create a convolutional neural network model\n",
    "    : x: Placeholder tensor that holds image data.\n",
    "    : keep_prob: Placeholder tensor that hold dropout keep probability.\n",
    "    : return: Tensor that represents logits\n",
    "    \"\"\"\n",
    "\n",
    "    # TODO: Apply 1, 2, or 3 Convolution and Max Pool layers\n",
    "    #   Play around with different number of outputs, kernel size and stride\n",
    "    # Function Definition from Above:\n",
    "    l1_conv_ksize=(5,5)\n",
    "    l1_conv_strides=(2,2)  \n",
    "    l2_conv_ksize=(4,4)\n",
    "    l2_conv_strides=(2,2)  \n",
    "    l3_conv_ksize=(3,3)\n",
    "    l3_conv_strides=(2,2)\n",
    "    pool_ksize=(2,2)\n",
    "    pool_strides=(2,2)\n",
    "    cl=conv2d_maxpool(x, 32, l1_conv_ksize, l1_conv_strides, pool_ksize, pool_strides)\n",
    "    cl=conv2d_maxpool(cl, 64, l2_conv_ksize, l2_conv_strides, pool_ksize, pool_strides)\n",
    "    cl=conv2d_maxpool(cl, 128, l3_conv_ksize, l3_conv_strides, pool_ksize, pool_strides)\n",
    "    # TODO: Apply a Flatten Layer\n",
    "    # Function Definition from Above:\n",
    "    #   flatten(x_tensor)\n",
    "   \n",
    "    cl_2d=flatten(cl)\n",
    "\n",
    "    # TODO: Apply 1, 2, or 3 Fully Connected Layers\n",
    "    #    Play around with different number of outputs\n",
    "    # Function Definition from Above:\n",
    "    \n",
    "    fl=fully_conn(cl_2d, 512)\n",
    "    fl=fully_conn(fl, 128)\n",
    "    fl=tf.nn.dropout(fl,keep_prob)\n",
    "    \n",
    "    # TODO: Apply an Output Layer\n",
    "    #    Set this to the number of classes\n",
    "    # Function Definition from Above:\n",
    "    logit=output(fl, 10)\n",
    "    \n",
    "    \n",
    "    # TODO: return output\n",
    "    return logit\n",
    "\n",
    "\n",
    "\n",
    "\n",
    "##############################\n",
    "## Build the Neural Network ##\n",
    "##############################\n",
    "\n",
    "# Remove previous weights, bias, inputs, etc..\n",
    "tf.reset_default_graph()\n",
    "\n",
    "# Inputs\n",
    "x = neural_net_image_input((32, 32, 3))\n",
    "y = neural_net_label_input(10)\n",
    "keep_prob = neural_net_keep_prob_input()\n",
    "\n",
    "# Model\n",
    "logits = conv_net(x, keep_prob)\n",
    "\n",
    "# Name logits Tensor, so that is can be loaded from disk after training\n",
    "logits = tf.identity(logits, name='logits')\n",
    "\n",
    "# Loss and Optimizer\n",
    "cost = tf.reduce_mean(tf.nn.softmax_cross_entropy_with_logits(logits=logits, labels=y))\n",
    "optimizer = tf.train.AdamOptimizer().minimize(cost)\n",
    "\n",
    "# Accuracy\n",
    "correct_pred = tf.equal(tf.argmax(logits, 1), tf.argmax(y, 1))\n",
    "accuracy = tf.reduce_mean(tf.cast(correct_pred, tf.float32), name='accuracy')\n",
    "\n",
    "tests.test_conv_net(conv_net)"
   ]
  },
  {
   "cell_type": "markdown",
   "metadata": {},
   "source": [
    "## Train the Neural Network\n",
    "### Single Optimization\n"
   ]
  },
  {
   "cell_type": "code",
   "execution_count": 21,
   "metadata": {},
   "outputs": [
    {
     "name": "stdout",
     "output_type": "stream",
     "text": [
      "<class 'numpy.ndarray'>\n",
      "Tests Passed\n"
     ]
    }
   ],
   "source": [
    "def train_neural_network(session, optimizer, keep_probability, feature_batch, label_batch):\n",
    "    \"\"\"\n",
    "    Optimize the session on a batch of images and labels\n",
    "    : session: Current TensorFlow session\n",
    "    : optimizer: TensorFlow optimizer function\n",
    "    : keep_probability: keep probability\n",
    "    : feature_batch: Batch of Numpy image data\n",
    "    : label_batch: Batch of Numpy label data\n",
    "    \"\"\"\n",
    "    # TODO: Implement Function\n",
    "    print(type(feature_batch))\n",
    "    \n",
    "    session.run(optimizer,feed_dict={x:feature_batch,y:label_batch,keep_prob:keep_probability})\n",
    "    pass\n",
    "\n",
    "\n",
    "Y ANYTHING IN THIS CELL THAT IS BELOW THIS LINE\n",
    "\"\"\"\n",
    "tests.test_train_nn(train_neural_network)"
   ]
  },
  {
   "cell_type": "markdown",
   "metadata": {},
   "source": [
    "### Show Stats\n",
    "Implement the function `print_stats` to print loss and validation accuracy.  Use the global variables `valid_features` and `valid_labels` to calculate validation accuracy.  Use a keep probability of `1.0` to calculate the loss and validation accuracy."
   ]
  },
  {
   "cell_type": "code",
   "execution_count": 24,
   "metadata": {
    "collapsed": true
   },
   "outputs": [],
   "source": [
    "def print_stats(session, feature_batch, label_batch, cost, accuracy):\n",
    "    \"\"\"\n",
    "    Print information about loss and validation accuracy\n",
    "    : session: Current TensorFlow session\n",
    "    : feature_batch: Batch of Numpy image data\n",
    "    : label_batch: Batch of Numpy label data\n",
    "    : cost: TensorFlow cost function\n",
    "    : accuracy: TensorFlow accuracy function\n",
    "    \"\"\"\n",
    "    \n",
    "    cost=session.run(cost,feed_dict={x:feature_batch,y:label_batch,keep_prob:1.0})\n",
    "    accuracy=session.run(accuracy,feed_dict={x:valid_features,y:valid_labels,keep_prob:1.0})\n",
    "    print('loss:{},accuracy:{}'.format(cost,accuracy))\n",
    "    pass"
   ]
  },
  {
   "cell_type": "markdown",
   "metadata": {},
   "source": [
    "### Hyperparameters\n",
    "Tune the following parameters:\n"
   ]
  },
  {
   "cell_type": "code",
   "execution_count": 15,
   "metadata": {
    "collapsed": true
   },
   "outputs": [],
   "source": [
    "# TODO: Tune Parameters\n",
    "epochs = 15\n",
    "batch_size = 64\n",
    "keep_probability = 0.5"
   ]
  },
  {
   "cell_type": "markdown",
   "metadata": {},
   "source": [
    "### Train on a Single CIFAR-10 Batch\n",
    "Instead of training the neural network on all the CIFAR-10 batches of data, let's use a single batch. This should save time while you iterate on the model to get a better accuracy.  Once the final validation accuracy is 50% or greater, run the model on all the data in the next section."
   ]
  },
  {
   "cell_type": "code",
   "execution_count": 16,
   "metadata": {},
   "outputs": [
    {
     "name": "stdout",
     "output_type": "stream",
     "text": [
      "Checking the Training on a Single Batch...\n",
      "Epoch  1, CIFAR-10 Batch 1:  loss:2.1385068893432617,accuracy:0.24560000002384186\n",
      "Epoch  2, CIFAR-10 Batch 1:  loss:1.9455572366714478,accuracy:0.3393999934196472\n",
      "Epoch  3, CIFAR-10 Batch 1:  loss:1.9037277698516846,accuracy:0.365200012922287\n",
      "Epoch  4, CIFAR-10 Batch 1:  loss:1.7212908267974854,accuracy:0.4185999929904938\n",
      "Epoch  5, CIFAR-10 Batch 1:  loss:1.67060124874115,accuracy:0.4291999936103821\n",
      "Epoch  6, CIFAR-10 Batch 1:  loss:1.618233323097229,accuracy:0.43959999084472656\n",
      "Epoch  7, CIFAR-10 Batch 1:  loss:1.5507729053497314,accuracy:0.44339999556541443\n",
      "Epoch  8, CIFAR-10 Batch 1:  loss:1.423153281211853,accuracy:0.45260000228881836\n",
      "Epoch  9, CIFAR-10 Batch 1:  loss:1.3759933710098267,accuracy:0.45399999618530273\n",
      "Epoch 10, CIFAR-10 Batch 1:  loss:1.1517980098724365,accuracy:0.451200008392334\n",
      "Epoch 11, CIFAR-10 Batch 1:  loss:1.0329959392547607,accuracy:0.48399999737739563\n",
      "Epoch 12, CIFAR-10 Batch 1:  loss:0.9069937467575073,accuracy:0.4790000021457672\n",
      "Epoch 13, CIFAR-10 Batch 1:  loss:0.8155013918876648,accuracy:0.5001999735832214\n",
      "Epoch 14, CIFAR-10 Batch 1:  loss:0.8401632308959961,accuracy:0.5134000182151794\n",
      "Epoch 15, CIFAR-10 Batch 1:  loss:0.7371193170547485,accuracy:0.5019999742507935\n"
     ]
    }
   ],
   "source": [
    "\n",
    "print('Checking the Training on a Single Batch...')\n",
    "with tf.Session() as sess:\n",
    "    # Initializing the variables\n",
    "    sess.run(tf.global_variables_initializer())\n",
    "    \n",
    "    # Training cycle\n",
    "    for epoch in range(epochs):\n",
    "        batch_i = 1\n",
    "        for batch_features, batch_labels in helper.load_preprocess_training_batch(batch_i, batch_size):\n",
    "            train_neural_network(sess, optimizer, keep_probability, batch_features, batch_labels)\n",
    "        print('Epoch {:>2}, CIFAR-10 Batch {}:  '.format(epoch + 1, batch_i), end='')\n",
    "        print_stats(sess, batch_features, batch_labels, cost, accuracy)"
   ]
  },
  {
   "cell_type": "markdown",
   "metadata": {},
   "source": [
    "### Fully Train the Model\n",
    "Now that you got a good accuracy with a single CIFAR-10 batch, try it with all five batches."
   ]
  },
  {
   "cell_type": "code",
   "execution_count": 17,
   "metadata": {},
   "outputs": [
    {
     "name": "stdout",
     "output_type": "stream",
     "text": [
      "Training...\n",
      "Epoch  1, CIFAR-10 Batch 1:  loss:2.1762325763702393,accuracy:0.28380000591278076\n",
      "Epoch  1, CIFAR-10 Batch 2:  loss:1.8745968341827393,accuracy:0.3357999920845032\n",
      "Epoch  1, CIFAR-10 Batch 3:  loss:1.3956221342086792,accuracy:0.397599995136261\n",
      "Epoch  1, CIFAR-10 Batch 4:  loss:1.6609169244766235,accuracy:0.4259999990463257\n",
      "Epoch  1, CIFAR-10 Batch 5:  loss:1.6030174493789673,accuracy:0.45559999346733093\n",
      "Epoch  2, CIFAR-10 Batch 1:  loss:1.8339160680770874,accuracy:0.45080000162124634\n",
      "Epoch  2, CIFAR-10 Batch 2:  loss:1.4576808214187622,accuracy:0.4652000069618225\n",
      "Epoch  2, CIFAR-10 Batch 3:  loss:1.1234941482543945,accuracy:0.46540001034736633\n",
      "Epoch  2, CIFAR-10 Batch 4:  loss:1.3304297924041748,accuracy:0.4864000082015991\n",
      "Epoch  2, CIFAR-10 Batch 5:  loss:1.367701768875122,accuracy:0.5189999938011169\n",
      "Epoch  3, CIFAR-10 Batch 1:  loss:1.4963874816894531,accuracy:0.5113999843597412\n",
      "Epoch  3, CIFAR-10 Batch 2:  loss:1.2677648067474365,accuracy:0.5175999999046326\n",
      "Epoch  3, CIFAR-10 Batch 3:  loss:0.9741436243057251,accuracy:0.5303999781608582\n",
      "Epoch  3, CIFAR-10 Batch 4:  loss:1.2728424072265625,accuracy:0.5267999768257141\n",
      "Epoch  3, CIFAR-10 Batch 5:  loss:1.2515259981155396,accuracy:0.54339998960495\n",
      "Epoch  4, CIFAR-10 Batch 1:  loss:1.2731231451034546,accuracy:0.5325999855995178\n",
      "Epoch  4, CIFAR-10 Batch 2:  loss:1.1526700258255005,accuracy:0.5600000023841858\n",
      "Epoch  4, CIFAR-10 Batch 3:  loss:0.9086788296699524,accuracy:0.5559999942779541\n",
      "Epoch  4, CIFAR-10 Batch 4:  loss:1.1864122152328491,accuracy:0.5454000234603882\n",
      "Epoch  4, CIFAR-10 Batch 5:  loss:1.005854845046997,accuracy:0.5644000172615051\n",
      "Epoch  5, CIFAR-10 Batch 1:  loss:1.1509454250335693,accuracy:0.5745999813079834\n",
      "Epoch  5, CIFAR-10 Batch 2:  loss:1.0300180912017822,accuracy:0.5685999989509583\n",
      "Epoch  5, CIFAR-10 Batch 3:  loss:0.8537272214889526,accuracy:0.5685999989509583\n",
      "Epoch  5, CIFAR-10 Batch 4:  loss:1.1091032028198242,accuracy:0.5583999752998352\n",
      "Epoch  5, CIFAR-10 Batch 5:  loss:0.9577153325080872,accuracy:0.5774000287055969\n",
      "Epoch  6, CIFAR-10 Batch 1:  loss:1.1548017263412476,accuracy:0.5914000272750854\n",
      "Epoch  6, CIFAR-10 Batch 2:  loss:0.9792208671569824,accuracy:0.5821999907493591\n",
      "Epoch  6, CIFAR-10 Batch 3:  loss:0.7553879618644714,accuracy:0.5831999778747559\n",
      "Epoch  6, CIFAR-10 Batch 4:  loss:1.0652960538864136,accuracy:0.571399986743927\n",
      "Epoch  6, CIFAR-10 Batch 5:  loss:0.85808926820755,accuracy:0.5879999995231628\n",
      "Epoch  7, CIFAR-10 Batch 1:  loss:1.1500744819641113,accuracy:0.5953999757766724\n",
      "Epoch  7, CIFAR-10 Batch 2:  loss:0.9121555089950562,accuracy:0.5911999940872192\n",
      "Epoch  7, CIFAR-10 Batch 3:  loss:0.6905153393745422,accuracy:0.5870000123977661\n",
      "Epoch  7, CIFAR-10 Batch 4:  loss:1.0198392868041992,accuracy:0.6010000109672546\n",
      "Epoch  7, CIFAR-10 Batch 5:  loss:0.7947713136672974,accuracy:0.6060000061988831\n",
      "Epoch  8, CIFAR-10 Batch 1:  loss:1.097403883934021,accuracy:0.6000000238418579\n",
      "Epoch  8, CIFAR-10 Batch 2:  loss:0.8684280514717102,accuracy:0.5852000117301941\n",
      "Epoch  8, CIFAR-10 Batch 3:  loss:0.6200780868530273,accuracy:0.5924000144004822\n",
      "Epoch  8, CIFAR-10 Batch 4:  loss:0.8935044407844543,accuracy:0.5952000021934509\n",
      "Epoch  8, CIFAR-10 Batch 5:  loss:0.7143266201019287,accuracy:0.597000002861023\n",
      "Epoch  9, CIFAR-10 Batch 1:  loss:0.9195416569709778,accuracy:0.6155999898910522\n",
      "Epoch  9, CIFAR-10 Batch 2:  loss:0.8999351263046265,accuracy:0.5983999967575073\n",
      "Epoch  9, CIFAR-10 Batch 3:  loss:0.6075802445411682,accuracy:0.5952000021934509\n",
      "Epoch  9, CIFAR-10 Batch 4:  loss:0.8737959861755371,accuracy:0.5971999764442444\n",
      "Epoch  9, CIFAR-10 Batch 5:  loss:0.6631240844726562,accuracy:0.6092000007629395\n",
      "Epoch 10, CIFAR-10 Batch 1:  loss:0.9743051528930664,accuracy:0.626800000667572\n",
      "Epoch 10, CIFAR-10 Batch 2:  loss:0.7966188788414001,accuracy:0.6003999710083008\n",
      "Epoch 10, CIFAR-10 Batch 3:  loss:0.5543732643127441,accuracy:0.5924000144004822\n",
      "Epoch 10, CIFAR-10 Batch 4:  loss:0.8453234434127808,accuracy:0.6050000190734863\n",
      "Epoch 10, CIFAR-10 Batch 5:  loss:0.6630523800849915,accuracy:0.6195999979972839\n",
      "Epoch 11, CIFAR-10 Batch 1:  loss:0.8470560312271118,accuracy:0.6100000143051147\n",
      "Epoch 11, CIFAR-10 Batch 2:  loss:0.706543505191803,accuracy:0.6011999845504761\n",
      "Epoch 11, CIFAR-10 Batch 3:  loss:0.48169487714767456,accuracy:0.6064000129699707\n",
      "Epoch 11, CIFAR-10 Batch 4:  loss:0.7784556746482849,accuracy:0.6172000169754028\n",
      "Epoch 11, CIFAR-10 Batch 5:  loss:0.5850046873092651,accuracy:0.6254000067710876\n",
      "Epoch 12, CIFAR-10 Batch 1:  loss:0.7579408884048462,accuracy:0.6001999974250793\n",
      "Epoch 12, CIFAR-10 Batch 2:  loss:0.7118317484855652,accuracy:0.598800003528595\n",
      "Epoch 12, CIFAR-10 Batch 3:  loss:0.48590245842933655,accuracy:0.6028000116348267\n",
      "Epoch 12, CIFAR-10 Batch 4:  loss:0.7100641131401062,accuracy:0.6177999973297119\n",
      "Epoch 12, CIFAR-10 Batch 5:  loss:0.573084831237793,accuracy:0.628600001335144\n",
      "Epoch 13, CIFAR-10 Batch 1:  loss:0.6888287663459778,accuracy:0.6101999878883362\n",
      "Epoch 13, CIFAR-10 Batch 2:  loss:0.6500420570373535,accuracy:0.5928000211715698\n",
      "Epoch 13, CIFAR-10 Batch 3:  loss:0.4192735552787781,accuracy:0.6111999750137329\n",
      "Epoch 13, CIFAR-10 Batch 4:  loss:0.7472742199897766,accuracy:0.6258000135421753\n",
      "Epoch 13, CIFAR-10 Batch 5:  loss:0.5287953615188599,accuracy:0.63919997215271\n",
      "Epoch 14, CIFAR-10 Batch 1:  loss:0.7146598696708679,accuracy:0.6173999905586243\n",
      "Epoch 14, CIFAR-10 Batch 2:  loss:0.6112467050552368,accuracy:0.6161999702453613\n",
      "Epoch 14, CIFAR-10 Batch 3:  loss:0.4868244230747223,accuracy:0.6173999905586243\n",
      "Epoch 14, CIFAR-10 Batch 4:  loss:0.7252415418624878,accuracy:0.6129999756813049\n",
      "Epoch 14, CIFAR-10 Batch 5:  loss:0.49950161576271057,accuracy:0.6355999708175659\n",
      "Epoch 15, CIFAR-10 Batch 1:  loss:0.584130585193634,accuracy:0.6299999952316284\n",
      "Epoch 15, CIFAR-10 Batch 2:  loss:0.5866750478744507,accuracy:0.6226000189781189\n",
      "Epoch 15, CIFAR-10 Batch 3:  loss:0.396506667137146,accuracy:0.6208000183105469\n",
      "Epoch 15, CIFAR-10 Batch 4:  loss:0.6617584228515625,accuracy:0.6259999871253967\n",
      "Epoch 15, CIFAR-10 Batch 5:  loss:0.3702947795391083,accuracy:0.6230000257492065\n"
     ]
    }
   ],
   "source": [
    "\n",
    "save_model_path = './image_classification'\n",
    "\n",
    "print('Training...')\n",
    "with tf.Session() as sess:\n",
    "    # Initializing the variables\n",
    "    sess.run(tf.global_variables_initializer())\n",
    "    \n",
    "    # Training cycle\n",
    "    for epoch in range(epochs):\n",
    "        # Loop over all batches\n",
    "        n_batches = 5\n",
    "        for batch_i in range(1, n_batches + 1):\n",
    "            for batch_features, batch_labels in helper.load_preprocess_training_batch(batch_i, batch_size):\n",
    "                train_neural_network(sess, optimizer, keep_probability, batch_features, batch_labels)\n",
    "            print('Epoch {:>2}, CIFAR-10 Batch {}:  '.format(epoch + 1, batch_i), end='')\n",
    "            print_stats(sess, batch_features, batch_labels, cost, accuracy)\n",
    "            \n",
    "    # Save Model\n",
    "    saver = tf.train.Saver()\n",
    "    save_path = saver.save(sess, save_model_path)"
   ]
  },
  {
   "cell_type": "markdown",
   "metadata": {},
   "source": [
    "# Checkpoint\n",
    "The model has been saved to disk.\n",
    "## Test Model\n",
    "Test your model against the test dataset.  This will be your final accuracy. You should have an accuracy greater than 50%. If you don't, keep tweaking the model architecture and parameters."
   ]
  },
  {
   "cell_type": "code",
   "execution_count": 18,
   "metadata": {},
   "outputs": [
    {
     "name": "stdout",
     "output_type": "stream",
     "text": [
      "INFO:tensorflow:Restoring parameters from ./image_classification\n",
      "Testing Accuracy: 0.632265127388535\n",
      "\n"
     ]
    },
    {
     "data": {
      "image/png": "[encoded data removed]",
      "text/plain": [
       "<matplotlib.figure.Figure at 0xe2d6da0>"
      ]
     },
     "metadata": {
      "image/png": {
       "height": 319,
       "width": 355
      }
     },
     "output_type": "display_data"
    }
   ],
   "source": [
    "\"\"\"\n",
    "DON'T MODIFY ANYTHING IN THIS CELL\n",
    "\"\"\"\n",
    "%matplotlib inline\n",
    "%config InlineBackend.figure_format = 'retina'\n",
    "\n",
    "import tensorflow as tf\n",
    "import pickle\n",
    "import helper\n",
    "import random\n",
    "\n",
    "# Set batch size if not already set\n",
    "try:\n",
    "    if batch_size:\n",
    "        pass\n",
    "except NameError:\n",
    "    batch_size = 64\n",
    "\n",
    "save_model_path = './image_classification'\n",
    "n_samples = 4\n",
    "top_n_predictions = 3\n",
    "\n",
    "def test_model():\n",
    "    \"\"\"\n",
    "    Test the saved model against the test dataset\n",
    "    \"\"\"\n",
    "\n",
    "    test_features, test_labels = pickle.load(open('preprocess_training.p', mode='rb'))\n",
    "    loaded_graph = tf.Graph()\n",
    "\n",
    "    with tf.Session(graph=loaded_graph) as sess:\n",
    "        # Load model\n",
    "        loader = tf.train.import_meta_graph(save_model_path + '.meta')\n",
    "        loader.restore(sess, save_model_path)\n",
    "\n",
    "        # Get Tensors from loaded model\n",
    "        loaded_x = loaded_graph.get_tensor_by_name('x:0')\n",
    "        loaded_y = loaded_graph.get_tensor_by_name('y:0')\n",
    "        loaded_keep_prob = loaded_graph.get_tensor_by_name('keep_prob:0')\n",
    "        loaded_logits = loaded_graph.get_tensor_by_name('logits:0')\n",
    "        loaded_acc = loaded_graph.get_tensor_by_name('accuracy:0')\n",
    "        \n",
    "        # Get accuracy in batches for memory limitations\n",
    "        test_batch_acc_total = 0\n",
    "        test_batch_count = 0\n",
    "        \n",
    "        for train_feature_batch, train_label_batch in helper.batch_features_labels(test_features, test_labels, batch_size):\n",
    "            test_batch_acc_total += sess.run(\n",
    "                loaded_acc,\n",
    "                feed_dict={loaded_x: train_feature_batch, loaded_y: train_label_batch, loaded_keep_prob: 1.0})\n",
    "            test_batch_count += 1\n",
    "\n",
    "        print('Testing Accuracy: {}\\n'.format(test_batch_acc_total/test_batch_count))\n",
    "\n",
    "        # Print Random Samples\n",
    "        random_test_features, random_test_labels = tuple(zip(*random.sample(list(zip(test_features, test_labels)), n_samples)))\n",
    "        random_test_predictions = sess.run(\n",
    "            tf.nn.top_k(tf.nn.softmax(loaded_logits), top_n_predictions),\n",
    "            feed_dict={loaded_x: random_test_features, loaded_y: random_test_labels, loaded_keep_prob: 1.0})\n",
    "        helper.display_image_predictions(random_test_features, random_test_labels, random_test_predictions)\n",
    "\n",
    "\n",
    "test_model()"
   ]
  }
 ],
 "metadata": {
  "kernelspec": {
   "display_name": "Python 3",
   "language": "python",
   "name": "python3"
  },
  "language_info": {
   "codemirror_mode": {
    "name": "ipython",
    "version": 3
   },
   "file_extension": ".py",
   "mimetype": "text/x-python",
   "name": "python",
   "nbconvert_exporter": "python",
   "pygments_lexer": "ipython3",
   "version": "3.5.3"
  }
 },
 "nbformat": 4,
 "nbformat_minor": 1
}
